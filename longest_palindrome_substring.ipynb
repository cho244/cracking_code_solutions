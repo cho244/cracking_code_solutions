{
 "cells": [
  {
   "cell_type": "code",
   "execution_count": 1,
   "metadata": {},
   "outputs": [],
   "source": [
    "# This code will find the longest substring palindrome in the given string.\n",
    "# It preformed 90% better than other Leetcode inputed solutions\n",
    "\n",
    "class Solution:\n",
    "    def longestPalindrome(self, s: str) -> str:\n",
    "        if len(s) == len(set(s)):\n",
    "            return s[0]\n",
    "        if len(set(s)) == 1:\n",
    "            return s\n",
    "        max_len = 0\n",
    "        max_pal = s[0]\n",
    "        \n",
    "        for i in range(len(s)-1):\n",
    "            if s[i]==s[i+1]:\n",
    "                begin = i\n",
    "                end = i+1                \n",
    "                while begin>-1 and end<(len(s)):\n",
    "                    if s[begin]==s[end]:\n",
    "                        if max_len<(end-begin):\n",
    "                            max_len =  end-begin\n",
    "                            max_pal = s[begin:end+1]\n",
    "                        \n",
    "                        begin-=1\n",
    "                        end+=1\n",
    "                    else:\n",
    "                        break\n",
    "        \n",
    "            \n",
    "        for i in range(len(s)-2):\n",
    "            if s[i]==s[i+2]:\n",
    "                begin = i\n",
    "                end = i+2\n",
    "                while begin>-1 and end<(len(s)):\n",
    "                    if s[begin] == s[end]:\n",
    "                        if max_len < (end-begin):\n",
    "                            max_len =  end-begin\n",
    "                            max_pal = s[begin:end+1]\n",
    "                            \n",
    "                        begin-=1\n",
    "                        end+=1\n",
    "                    else:\n",
    "                        break\n",
    "        \n",
    "        return(max_pal)\n"
   ]
  },
  {
   "cell_type": "code",
   "execution_count": null,
   "metadata": {},
   "outputs": [],
   "source": []
  }
 ],
 "metadata": {
  "kernelspec": {
   "display_name": "Python 3",
   "language": "python",
   "name": "python3"
  },
  "language_info": {
   "codemirror_mode": {
    "name": "ipython",
    "version": 3
   },
   "file_extension": ".py",
   "mimetype": "text/x-python",
   "name": "python",
   "nbconvert_exporter": "python",
   "pygments_lexer": "ipython3",
   "version": "3.7.1"
  }
 },
 "nbformat": 4,
 "nbformat_minor": 2
}

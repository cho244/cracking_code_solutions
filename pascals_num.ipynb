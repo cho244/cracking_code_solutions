{
 "cells": [
  {
   "cell_type": "code",
   "execution_count": 2,
   "metadata": {},
   "outputs": [],
   "source": [
    "class Solution:\n",
    "    def getRow(self, rowIndex: int):\n",
    "        pascal = {0:[1], 1:[1,1], 2:[1,2,1], 3:[1,3]}\n",
    "        \n",
    "        if rowIndex < 3:\n",
    "            return pascal[rowIndex]\n",
    "        \n",
    "        for i in range(3, rowIndex+1):\n",
    "            pascal[i] = [1,i]\n",
    "            prev_pas = pascal[i-1]\n",
    "            j = 2\n",
    "            while (j< int((i+1)/2)):\n",
    "                c = prev_pas[j-1]+prev_pas[j]\n",
    "                pascal[i].append(c)\n",
    "                j +=1\n",
    "            if i%2 == 0:\n",
    "                pascal[i].append(prev_pas[-1]*2)\n",
    "        \n",
    "        if rowIndex % 2 == 1:\n",
    "            tail = pascal[rowIndex][::-1]\n",
    "        else:\n",
    "            tail = pascal[rowIndex][:-1][::-1]\n",
    "            \n",
    "        return pascal[rowIndex] + tail\n",
    "\n"
   ]
  },
  {
   "cell_type": "code",
   "execution_count": null,
   "metadata": {},
   "outputs": [],
   "source": []
  }
 ],
 "metadata": {
  "kernelspec": {
   "display_name": "Python 3",
   "language": "python",
   "name": "python3"
  },
  "language_info": {
   "codemirror_mode": {
    "name": "ipython",
    "version": 3
   },
   "file_extension": ".py",
   "mimetype": "text/x-python",
   "name": "python",
   "nbconvert_exporter": "python",
   "pygments_lexer": "ipython3",
   "version": "3.7.1"
  }
 },
 "nbformat": 4,
 "nbformat_minor": 2
}

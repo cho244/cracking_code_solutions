{
 "cells": [
  {
   "cell_type": "code",
   "execution_count": 316,
   "metadata": {},
   "outputs": [],
   "source": [
    "import numpy as np"
   ]
  },
  {
   "cell_type": "code",
   "execution_count": 15,
   "metadata": {},
   "outputs": [],
   "source": [
    "# 1.3\n",
    "def URLify(string, length):\n",
    "    return string.replace(' ', '%')[0:length]"
   ]
  },
  {
   "cell_type": "code",
   "execution_count": 18,
   "metadata": {},
   "outputs": [
    {
     "data": {
      "text/plain": [
       "'Mr%John%Smith'"
      ]
     },
     "execution_count": 18,
     "metadata": {},
     "output_type": "execute_result"
    }
   ],
   "source": [
    "URLify('Mr John Smith   ', 13)"
   ]
  },
  {
   "cell_type": "code",
   "execution_count": 22,
   "metadata": {},
   "outputs": [],
   "source": [
    "# 1.4\n",
    "def palindrome_permutation(string):\n",
    "    string = string.lower()\n",
    "    checker = set()\n",
    "    \n",
    "    for char in string:\n",
    "        if char == ' ':\n",
    "            pass\n",
    "        elif char in checker:\n",
    "            checker.remove(char)\n",
    "        else:\n",
    "            checker.add(char)\n",
    "    return len(checker)<=1"
   ]
  },
  {
   "cell_type": "code",
   "execution_count": 27,
   "metadata": {},
   "outputs": [
    {
     "data": {
      "text/plain": [
       "False"
      ]
     },
     "execution_count": 27,
     "metadata": {},
     "output_type": "execute_result"
    }
   ],
   "source": [
    "palindrome_permutation('rawsceecar')"
   ]
  },
  {
   "cell_type": "code",
   "execution_count": 62,
   "metadata": {},
   "outputs": [],
   "source": [
    "# 1.5\n",
    "def one_away(s1, s2):\n",
    "    strike = 0\n",
    "    longer_s = ''\n",
    "    shorter_s = ''\n",
    "    if len(s1)>len(s2):\n",
    "        longer_s = s1\n",
    "        shorter_s = s2\n",
    "    else: \n",
    "        longer_s = s2\n",
    "        shorter_s = s1\n",
    "        \n",
    "    if abs(len(s1) - len(s2))>1:\n",
    "        return False\n",
    "    # no edit\n",
    "    elif s1 == s2:\n",
    "        return True\n",
    "    #replace\n",
    "    elif len(s1)==len(s2):\n",
    "        for i in range(len(s1)):\n",
    "            if s1[i] != s2[i]:\n",
    "                strike += 1\n",
    "                if strike > 1:\n",
    "                    return False\n",
    "    #insert and delete\n",
    "    else:\n",
    "        i = 0 #longer string index\n",
    "        j = 0 #shorter string index\n",
    "        while(j<len(shorter_s)):\n",
    "            if longer_s[i] != shorter_s[j]:\n",
    "                i+=1\n",
    "                strike +=1\n",
    "                if strike > 1:\n",
    "                    return False\n",
    "            else:\n",
    "                i+=1\n",
    "                j+=1\n",
    "    return True\n",
    "                    \n",
    "            \n",
    "        "
   ]
  },
  {
   "cell_type": "code",
   "execution_count": 69,
   "metadata": {},
   "outputs": [
    {
     "data": {
      "text/plain": [
       "False"
      ]
     },
     "execution_count": 69,
     "metadata": {},
     "output_type": "execute_result"
    }
   ],
   "source": [
    "one_away('bale','pate')"
   ]
  },
  {
   "cell_type": "code",
   "execution_count": 131,
   "metadata": {},
   "outputs": [],
   "source": [
    "#1.6\n",
    "def string_compression(string):\n",
    "    counter = 1\n",
    "    result = ''\n",
    "    i = 0\n",
    "    while (i<len(string)-1):\n",
    "        if i == len(string)-2:\n",
    "            if string[i] == string[i+1]:\n",
    "                counter += 1\n",
    "                result += string[i]+str(counter)\n",
    "                return result\n",
    "            else:\n",
    "                result += string[i]+str(counter)\n",
    "                result += string[i+1] + '1'\n",
    "                return result\n",
    "                \n",
    "        elif string[i] != string[i+1]:\n",
    "            result += string[i]+str(counter)\n",
    "            counter = 1\n",
    "            i+=1\n",
    "        else:\n",
    "            counter +=1\n",
    "            i+=1\n",
    "    return ('you have an error')"
   ]
  },
  {
   "cell_type": "code",
   "execution_count": 117,
   "metadata": {},
   "outputs": [],
   "source": [
    "#1.8\n",
    "def zero_matrix(matrix):\n",
    "    rows = len(matrix)\n",
    "    cols = len(matrix[0])\n",
    "\n",
    "    zero_col= []\n",
    "\n",
    "    for i, row in enumerate (matrix):\n",
    "        for j, position in enumerate (row):\n",
    "            if position == 0:\n",
    "                matrix[i] = [0]*cols\n",
    "                zero_col.append(j)\n",
    "\n",
    "    for col in zero_col:\n",
    "        for i in range(len(matrix)):\n",
    "            matrix[i][col]=0\n",
    "\n",
    "    return matrix"
   ]
  },
  {
   "cell_type": "code",
   "execution_count": 133,
   "metadata": {},
   "outputs": [
    {
     "data": {
      "text/plain": [
       "'a2b1c5a1'"
      ]
     },
     "execution_count": 133,
     "metadata": {},
     "output_type": "execute_result"
    }
   ],
   "source": [
    "string_compression('aabccccca')"
   ]
  },
  {
   "cell_type": "code",
   "execution_count": 274,
   "metadata": {},
   "outputs": [],
   "source": [
    "#1.7\n",
    "matrix=[[1,2,3,4],\n",
    "        [5,6,7,8],\n",
    "        [9,10,11,12]]\n",
    "row_len = len(matrix)\n",
    "col_len = len(matrix[0])\n",
    "new_matrix = [([0]*row_len)]*col_len"
   ]
  },
  {
   "cell_type": "code",
   "execution_count": 314,
   "metadata": {},
   "outputs": [],
   "source": [
    "for i, row in enumerate(matrix):\n",
    "    for j in range(len(row)):\n",
    "#         print(str(j)+str(i))\n",
    "        (new_matrix[j][i])=(matrix[i][j])"
   ]
  },
  {
   "cell_type": "code",
   "execution_count": 306,
   "metadata": {},
   "outputs": [],
   "source": [
    "new_matrix[0]=[31,101,221]"
   ]
  },
  {
   "cell_type": "code",
   "execution_count": 249,
   "metadata": {},
   "outputs": [],
   "source": [
    "matrix=[[1,2,3,4],\n",
    "        [5,6,7,8],\n",
    "        [9,10,11,12]]"
   ]
  },
  {
   "cell_type": "code",
   "execution_count": 315,
   "metadata": {},
   "outputs": [
    {
     "data": {
      "text/plain": [
       "[[1, 5, 9], [2, 6, 10], [3, 7, 11], [4, 8, 12]]"
      ]
     },
     "execution_count": 315,
     "metadata": {},
     "output_type": "execute_result"
    }
   ],
   "source": [
    "new_matrix"
   ]
  },
  {
   "cell_type": "code",
   "execution_count": 312,
   "metadata": {},
   "outputs": [],
   "source": [
    "new_matrix[2][1]=4"
   ]
  },
  {
   "cell_type": "code",
   "execution_count": 265,
   "metadata": {},
   "outputs": [
    {
     "data": {
      "text/plain": [
       "4"
      ]
     },
     "execution_count": 265,
     "metadata": {},
     "output_type": "execute_result"
    }
   ],
   "source": [
    "len(new_matrix[0])"
   ]
  },
  {
   "cell_type": "code",
   "execution_count": 299,
   "metadata": {},
   "outputs": [
    {
     "data": {
      "text/plain": [
       "3"
      ]
     },
     "execution_count": 299,
     "metadata": {},
     "output_type": "execute_result"
    }
   ],
   "source": [
    "new"
   ]
  },
  {
   "cell_type": "code",
   "execution_count": 321,
   "metadata": {},
   "outputs": [
    {
     "data": {
      "text/plain": [
       "array([[ 1,  2,  3],\n",
       "       [ 4,  5,  6],\n",
       "       [ 7,  8,  9],\n",
       "       [10, 11, 12]])"
      ]
     },
     "execution_count": 321,
     "metadata": {},
     "output_type": "execute_result"
    }
   ],
   "source": [
    "matrix = np.array(matrix).reshape(4,3)\n",
    "matrix"
   ]
  },
  {
   "cell_type": "code",
   "execution_count": 323,
   "metadata": {},
   "outputs": [],
   "source": [
    "m = np.empty((3,4))"
   ]
  },
  {
   "cell_type": "code",
   "execution_count": 325,
   "metadata": {},
   "outputs": [
    {
     "data": {
      "text/plain": [
       "3"
      ]
     },
     "execution_count": 325,
     "metadata": {},
     "output_type": "execute_result"
    }
   ],
   "source": [
    "len(m)"
   ]
  },
  {
   "cell_type": "code",
   "execution_count": 326,
   "metadata": {},
   "outputs": [
    {
     "data": {
      "text/plain": [
       "4"
      ]
     },
     "execution_count": 326,
     "metadata": {},
     "output_type": "execute_result"
    }
   ],
   "source": [
    "len(m[1])"
   ]
  },
  {
   "cell_type": "code",
   "execution_count": 327,
   "metadata": {},
   "outputs": [
    {
     "data": {
      "text/plain": [
       "{'a', 'b', 'e', 'l', 'o', 'r', 't', 'w'}"
      ]
     },
     "execution_count": 327,
     "metadata": {},
     "output_type": "execute_result"
    }
   ],
   "source": [
    "set('waterbottle')"
   ]
  },
  {
   "cell_type": "code",
   "execution_count": null,
   "metadata": {},
   "outputs": [],
   "source": []
  }
 ],
 "metadata": {
  "kernelspec": {
   "display_name": "Python 3",
   "language": "python",
   "name": "python3"
  },
  "language_info": {
   "codemirror_mode": {
    "name": "ipython",
    "version": 3
   },
   "file_extension": ".py",
   "mimetype": "text/x-python",
   "name": "python",
   "nbconvert_exporter": "python",
   "pygments_lexer": "ipython3",
   "version": "3.7.1"
  }
 },
 "nbformat": 4,
 "nbformat_minor": 2
}
